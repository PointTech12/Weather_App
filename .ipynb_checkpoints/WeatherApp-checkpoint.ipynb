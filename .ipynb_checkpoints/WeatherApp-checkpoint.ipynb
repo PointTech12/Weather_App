{
 "cells": [
  {
   "cell_type": "code",
   "execution_count": null,
   "id": "6c7cfc70",
   "metadata": {},
   "outputs": [],
   "source": [
    "\n",
    "import tkinter as tk\n",
    "from tkinter import *"
   ]
  },
  {
   "cell_type": "code",
   "execution_count": null,
   "id": "ab50815d",
   "metadata": {},
   "outputs": [],
   "source": [
    "from geopy.geocoders import Nominatim "
   ]
  },
  {
   "cell_type": "code",
   "execution_count": 21,
   "id": "94e1ac6b",
   "metadata": {},
   "outputs": [],
   "source": [
    "from tkinter import ttk,messagebox "
   ]
  },
  {
   "cell_type": "code",
   "execution_count": 22,
   "id": "a7c92b40",
   "metadata": {},
   "outputs": [],
   "source": [
    "from timezonefinder import TimezoneFinder"
   ]
  },
  {
   "cell_type": "code",
   "execution_count": 23,
   "id": "421e998f",
   "metadata": {},
   "outputs": [],
   "source": [
    "from datetime import *"
   ]
  },
  {
   "cell_type": "code",
   "execution_count": 24,
   "id": "d741855d",
   "metadata": {},
   "outputs": [],
   "source": [
    "import requests"
   ]
  },
  {
   "cell_type": "code",
   "execution_count": 25,
   "id": "47369a92",
   "metadata": {},
   "outputs": [],
   "source": [
    "import pytz"
   ]
  },
  {
   "cell_type": "code",
   "execution_count": 26,
   "id": "4461efff",
   "metadata": {},
   "outputs": [],
   "source": [
    "from PIL import Image,ImageTk"
   ]
  },
  {
   "cell_type": "code",
   "execution_count": 29,
   "id": "7bf3f9c2",
   "metadata": {},
   "outputs": [
    {
     "ename": "TclError",
     "evalue": "couldn't open \"logo.png\": no such file or directory",
     "output_type": "error",
     "traceback": [
      "\u001b[1;31m---------------------------------------------------------------------------\u001b[0m",
      "\u001b[1;31mTclError\u001b[0m                                  Traceback (most recent call last)",
      "Cell \u001b[1;32mIn[29], line 42\u001b[0m\n\u001b[0;32m     38\u001b[0m     \u001b[38;5;28mprint\u001b[39m(wind)\n\u001b[0;32m     41\u001b[0m \u001b[38;5;66;03m## Icons Import\u001b[39;00m\n\u001b[1;32m---> 42\u001b[0m image_icon \u001b[38;5;241m=\u001b[39m \u001b[43mPhotoImage\u001b[49m\u001b[43m(\u001b[49m\u001b[43mfile\u001b[49m\u001b[38;5;241;43m=\u001b[39;49m\u001b[38;5;124;43m\"\u001b[39;49m\u001b[38;5;124;43mlogo.png\u001b[39;49m\u001b[38;5;124;43m\"\u001b[39;49m\u001b[43m)\u001b[49m\n\u001b[0;32m     43\u001b[0m root\u001b[38;5;241m.\u001b[39miconphoto(\u001b[38;5;28;01mFalse\u001b[39;00m,image_icon)\n\u001b[0;32m     47\u001b[0m Round_box \u001b[38;5;241m=\u001b[39m PhotoImage(file\u001b[38;5;241m=\u001b[39m\u001b[38;5;124m\"\u001b[39m\u001b[38;5;124mImages/Rounded Rectangle 1.png\u001b[39m\u001b[38;5;124m\"\u001b[39m)\n",
      "File \u001b[1;32mc:\\Program Files\\Python312\\Lib\\tkinter\\__init__.py:4146\u001b[0m, in \u001b[0;36mPhotoImage.__init__\u001b[1;34m(self, name, cnf, master, **kw)\u001b[0m\n\u001b[0;32m   4141\u001b[0m \u001b[38;5;28;01mdef\u001b[39;00m \u001b[38;5;21m__init__\u001b[39m(\u001b[38;5;28mself\u001b[39m, name\u001b[38;5;241m=\u001b[39m\u001b[38;5;28;01mNone\u001b[39;00m, cnf\u001b[38;5;241m=\u001b[39m{}, master\u001b[38;5;241m=\u001b[39m\u001b[38;5;28;01mNone\u001b[39;00m, \u001b[38;5;241m*\u001b[39m\u001b[38;5;241m*\u001b[39mkw):\n\u001b[0;32m   4142\u001b[0m \u001b[38;5;250m    \u001b[39m\u001b[38;5;124;03m\"\"\"Create an image with NAME.\u001b[39;00m\n\u001b[0;32m   4143\u001b[0m \n\u001b[0;32m   4144\u001b[0m \u001b[38;5;124;03m    Valid resource names: data, format, file, gamma, height, palette,\u001b[39;00m\n\u001b[0;32m   4145\u001b[0m \u001b[38;5;124;03m    width.\"\"\"\u001b[39;00m\n\u001b[1;32m-> 4146\u001b[0m     \u001b[43mImage\u001b[49m\u001b[38;5;241;43m.\u001b[39;49m\u001b[38;5;21;43m__init__\u001b[39;49m\u001b[43m(\u001b[49m\u001b[38;5;28;43mself\u001b[39;49m\u001b[43m,\u001b[49m\u001b[43m \u001b[49m\u001b[38;5;124;43m'\u001b[39;49m\u001b[38;5;124;43mphoto\u001b[39;49m\u001b[38;5;124;43m'\u001b[39;49m\u001b[43m,\u001b[49m\u001b[43m \u001b[49m\u001b[43mname\u001b[49m\u001b[43m,\u001b[49m\u001b[43m \u001b[49m\u001b[43mcnf\u001b[49m\u001b[43m,\u001b[49m\u001b[43m \u001b[49m\u001b[43mmaster\u001b[49m\u001b[43m,\u001b[49m\u001b[43m \u001b[49m\u001b[38;5;241;43m*\u001b[39;49m\u001b[38;5;241;43m*\u001b[39;49m\u001b[43mkw\u001b[49m\u001b[43m)\u001b[49m\n",
      "File \u001b[1;32mc:\\Program Files\\Python312\\Lib\\tkinter\\__init__.py:4093\u001b[0m, in \u001b[0;36mImage.__init__\u001b[1;34m(self, imgtype, name, cnf, master, **kw)\u001b[0m\n\u001b[0;32m   4091\u001b[0m \u001b[38;5;28;01mfor\u001b[39;00m k, v \u001b[38;5;129;01min\u001b[39;00m cnf\u001b[38;5;241m.\u001b[39mitems():\n\u001b[0;32m   4092\u001b[0m     options \u001b[38;5;241m=\u001b[39m options \u001b[38;5;241m+\u001b[39m (\u001b[38;5;124m'\u001b[39m\u001b[38;5;124m-\u001b[39m\u001b[38;5;124m'\u001b[39m\u001b[38;5;241m+\u001b[39mk, v)\n\u001b[1;32m-> 4093\u001b[0m \u001b[38;5;28;43mself\u001b[39;49m\u001b[38;5;241;43m.\u001b[39;49m\u001b[43mtk\u001b[49m\u001b[38;5;241;43m.\u001b[39;49m\u001b[43mcall\u001b[49m\u001b[43m(\u001b[49m\u001b[43m(\u001b[49m\u001b[38;5;124;43m'\u001b[39;49m\u001b[38;5;124;43mimage\u001b[39;49m\u001b[38;5;124;43m'\u001b[39;49m\u001b[43m,\u001b[49m\u001b[43m \u001b[49m\u001b[38;5;124;43m'\u001b[39;49m\u001b[38;5;124;43mcreate\u001b[39;49m\u001b[38;5;124;43m'\u001b[39;49m\u001b[43m,\u001b[49m\u001b[43m \u001b[49m\u001b[43mimgtype\u001b[49m\u001b[43m,\u001b[49m\u001b[43m \u001b[49m\u001b[43mname\u001b[49m\u001b[43m,\u001b[49m\u001b[43m)\u001b[49m\u001b[43m \u001b[49m\u001b[38;5;241;43m+\u001b[39;49m\u001b[43m \u001b[49m\u001b[43moptions\u001b[49m\u001b[43m)\u001b[49m\n\u001b[0;32m   4094\u001b[0m \u001b[38;5;28mself\u001b[39m\u001b[38;5;241m.\u001b[39mname \u001b[38;5;241m=\u001b[39m name\n",
      "\u001b[1;31mTclError\u001b[0m: couldn't open \"logo.png\": no such file or directory"
     ]
    }
   ],
   "source": [
    "root=tk.Tk()\n",
    "root.title(\"WeatherApp\")\n",
    "root.geometry(\"890x470+300+300\")\n",
    "root.configure(bg=\"#57adff\")\n",
    "root.resizable(False,False)\n",
    "\n",
    "def getWeather():\n",
    "    city=textfield.get()\n",
    "    \n",
    "    geolocator= Nominatim(user_agent=\"geoapiExercises\")\n",
    "    location=geolocator.geocode(city)\n",
    "    obj = TimezoneFinder()\n",
    "    \n",
    "    result = obj.timezone_at(lng=location.longitude,lat=location.latitude)\n",
    "    \n",
    "    timezone.config(text=result)\n",
    "    long_lat.config(text=f\"{round(location.latitude,4)}°N,{round(location.longitude),4}°E\")\n",
    "    \n",
    "    home=pytz.timezone(result)\n",
    "    local_time=datetime.now(home)\n",
    "    current_time=local_time.strftime(\"%I:%M %p\")\n",
    "    clock.config(text=current_time)\n",
    "    \n",
    "    #weather \n",
    "    api=\"https://api.openweathermap.org/data/2.5/onecall?lat=\"+str(location.latitude)+\"&lon=\"+str(location.longitude)+\"&units=metric&exclude=hourly&appid=d0e2abe3b961cc8ad356d61bbaa000f9\"\n",
    "    ##api = \"https://api.openweathermap.org/data/3.0/onecall?lat={location.latitude}&lon={location.longitude}&units=metric&exclude=hourly&appid={b82039d3cfc621eb83d7a2f51312c6d9}\"\n",
    "    json_data = requests.get(api).json()\n",
    "    \n",
    "    #current\n",
    "    temp=json_data['current']['temp']\n",
    "    humidity=json_data['current']['humidity']\n",
    "    pressure=json_data['curent']['pressure']\n",
    "    wind = json_data['current']['wind_speed']\n",
    "    description=json_data['current']['weather'][0]['description']\n",
    "    print(temp)\n",
    "    print(humidity)\n",
    "    print(pressure)\n",
    "    print(wind)\n",
    "    \n",
    "    \n",
    "## Icons Import\n",
    "image_icon = PhotoImage(file=\"logo.png\")\n",
    "root.iconphoto(False,image_icon)\n",
    "\n",
    "\n",
    "\n",
    "Round_box = PhotoImage(file=\"Images/Rounded Rectangle 1.png\")\n",
    "Label(root,image=Round_box,bg=\"#57adff\").place(x=30,y=110)\n",
    "\n",
    "#label\n",
    "label1=Label(root,text=\"Temprature\",font=('Helvetica',11),fg=\"white\",bg=\"#203243\")\n",
    "label1.place(x=50,y=120)\n",
    "\n",
    "label2=Label(root,text=\"Humidity\",font=('Helvetica',11),fg=\"white\",bg=\"#203243\")\n",
    "label2.place(x=50,y=140)\n",
    "\n",
    "label3=Label(root,text=\"Pressure\",font=('Helvetica',11),fg=\"white\",bg=\"#203243\")\n",
    "label3.place(x=50,y=160)\n",
    "\n",
    "label4=Label(root,text=\"Wind Speed\",font=('Helvetica',11),fg=\"white\",bg=\"#203243\")\n",
    "label4.place(x=50,y=180)\n",
    "\n",
    "label5=Label(root,text=\"Description\",font=('Helvetica',11),fg=\"white\",bg=\"#203243\")\n",
    "label5.place(x=50,y=200)\n",
    "\n",
    "##search Box\n",
    "Search_image=PhotoImage(file=\"Images/Rounded Rectangle 3.png\")\n",
    "myimage=Label(image=Search_image,bg=\"#57adff\")\n",
    "myimage.place(x=270,y=120)\n",
    "\n",
    "weat_image=PhotoImage(file=\"Images/Layer 7.png\")\n",
    "weatherimage=Label(root,image=weat_image,bg=\"#203243\")\n",
    "weatherimage.place(x=290,y=127)\n",
    "\n",
    "textfield=tk.Entry(root,justify='center',width=15,font=('poopins',25,'bold'),bg=\"#203243\",border =0,fg=\"white\")\n",
    "textfield.place(x=370,y=130)\n",
    "textfield.focus()\n",
    "\n",
    "Search_icon=PhotoImage(file=\"Images/Layer 6.png\")\n",
    "myimage_icon=Button(image=Search_icon,borderwidth=0,cursor=\"hand2\",bg=\"#203243\",command=getWeather)\n",
    "myimage_icon.place(x=645,y=125)\n",
    "\n",
    "#Bottom Big Black Box\n",
    "frame=Frame(root,width=900,height=180,bg=\"#212120\")\n",
    "frame.pack(side=BOTTOM)\n",
    "\n",
    "#Bottom Boxes\n",
    "firstbox=PhotoImage(file=\"Images/Rounded Rectangle 2.png\")\n",
    "secondbox=PhotoImage(file=\"Images/Rounded Rectangle 2 copy.png\")\n",
    "\n",
    "Label(frame,image=firstbox,bg=\"#212120\").place(x=30,y=20)\n",
    "Label(frame,image=secondbox,bg=\"#212120\").place(x=300,y=30)\n",
    "Label(frame,image=secondbox,bg=\"#212120\").place(x=400,y=30)\n",
    "Label(frame,image=secondbox,bg=\"#212120\").place(x=500,y=30)\n",
    "Label(frame,image=secondbox,bg=\"#212120\").place(x=600,y=30)\n",
    "Label(frame,image=secondbox,bg=\"#212120\").place(x=700,y=30)\n",
    "Label(frame,image=secondbox,bg=\"#212120\").place(x=800,y=30)\n",
    "\n",
    "\n",
    "###Clock in the left corner [Time will displayed here]\n",
    "\n",
    "clock=Label(root, font=(\"Helvetica\" ,30, 'bold'),fg=\"white\",bg=\"#57adff\") \n",
    "clock.place(x=30,y=20)\n",
    "\n",
    "\n",
    "\n",
    "### Timezone\n",
    "\n",
    "timezone=Label(root, font=(\"Helvetica\" ,20), fg=\"white\",bg=\"#57adff\") \n",
    "timezone.place(x=700, y=20)\n",
    "\n",
    "long_lat=Label(root, font=(\"Helvetica\", 10), fg=\"white\", bg=\"#57adff\") \n",
    "long_lat.place(x=700, y=20)\n",
    "\n",
    "#thpwd\n",
    "t=Label(root,text=\"temp\",font=(\"Helvetica\",11),fg=\"white\",bg=\"#203243\")\n",
    "t.place(x=150,y=120)\n",
    "\n",
    "\n",
    "root.mainloop()"
   ]
  },
  {
   "cell_type": "code",
   "execution_count": null,
   "id": "06428b6d",
   "metadata": {},
   "outputs": [],
   "source": []
  },
  {
   "cell_type": "raw",
   "id": "2f8830c0",
   "metadata": {},
   "source": []
  }
 ],
 "metadata": {
  "kernelspec": {
   "display_name": "Python 3 (ipykernel)",
   "language": "python",
   "name": "python3"
  },
  "language_info": {
   "codemirror_mode": {
    "name": "ipython",
    "version": 3
   },
   "file_extension": ".py",
   "mimetype": "text/x-python",
   "name": "python",
   "nbconvert_exporter": "python",
   "pygments_lexer": "ipython3",
   "version": "3.12.2"
  }
 },
 "nbformat": 4,
 "nbformat_minor": 5
}
